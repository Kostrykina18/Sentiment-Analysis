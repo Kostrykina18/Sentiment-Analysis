{
 "cells": [
  {
   "cell_type": "code",
   "execution_count": 1,
   "metadata": {},
   "outputs": [],
   "source": [
    "import re\n",
    "import numpy as np\n",
    "import pandas as pd\n",
    "import ufal.udpipe\n",
    "from model import Model\n",
    "import conllu\n",
    "from collections import defaultdict\n",
    "from nltk.parse import DependencyGraph\n",
    "from tqdm.auto import tqdm"
   ]
  },
  {
   "cell_type": "code",
   "execution_count": 129,
   "metadata": {},
   "outputs": [],
   "source": [
    "from sklearn.feature_extraction.text import TfidfVectorizer\n",
    "from sklearn.utils import shuffle\n",
    "from sklearn.model_selection import train_test_split\n",
    "from sklearn.linear_model import LogisticRegression\n",
    "from sklearn.neighbors import KNeighborsClassifier\n",
    "from sklearn.naive_bayes import MultinomialNB\n",
    "from sklearn.metrics import accuracy_score\n",
    "from sklearn.metrics import precision_score, recall_score, f1_score\n",
    "from sklearn.model_selection import cross_val_score"
   ]
  },
  {
   "cell_type": "code",
   "execution_count": 104,
   "metadata": {},
   "outputs": [],
   "source": [
    "model = Model('english-ewt-ud-2.5-191206.udpipe')"
   ]
  },
  {
   "cell_type": "code",
   "execution_count": 105,
   "metadata": {},
   "outputs": [],
   "source": [
    "def get_conllu(model, text):\n",
    "    sentences = model.tokenize(text)\n",
    "    for s in sentences:\n",
    "        model.tag(s)\n",
    "        model.parse(s)\n",
    "    conllu_text = model.write(sentences, \"conllu\")\n",
    "    return conllu_text"
   ]
  },
  {
   "cell_type": "code",
   "execution_count": 106,
   "metadata": {},
   "outputs": [],
   "source": [
    "def get_dep_tree(text):\n",
    "    trees = []\n",
    "    for sent in text.split('\\n\\n'):\n",
    "        tree = [line for line in sent.split('\\n') if line and line[0] != '#']\n",
    "        trees.append('\\n'.join(tree))\n",
    "    return trees"
   ]
  },
  {
   "cell_type": "code",
   "execution_count": 107,
   "metadata": {},
   "outputs": [],
   "source": [
    "def prep(text):\n",
    "    text = (re.sub('\\n', '', text)).strip()\n",
    "    return text"
   ]
  },
  {
   "cell_type": "code",
   "execution_count": 108,
   "metadata": {},
   "outputs": [],
   "source": [
    "def split(text):\n",
    "    return text.split(' . ')"
   ]
  },
  {
   "cell_type": "code",
   "execution_count": 109,
   "metadata": {},
   "outputs": [],
   "source": [
    "sentence = 'it is never mentioned but the gravity on mars has been increased somehow'"
   ]
  },
  {
   "cell_type": "code",
   "execution_count": 122,
   "metadata": {},
   "outputs": [
    {
     "name": "stdout",
     "output_type": "stream",
     "text": [
      "# newdoc\n",
      "# newpar\n",
      "# sent_id = 1\n",
      "# text = it is never mentioned but the gravity on mars has been increased somehow\n",
      "1\tit\tit\tPRON\tPRP\tCase=Nom|Gender=Neut|Number=Sing|Person=3|PronType=Prs\t4\tnsubj:pass\t_\t_\n",
      "2\tis\tbe\tAUX\tVBZ\tMood=Ind|Number=Sing|Person=3|Tense=Pres|VerbForm=Fin\t4\taux:pass\t_\t_\n",
      "3\tnever\tnever\tADV\tRB\t_\t4\tadvmod\t_\t_\n",
      "4\tmentioned\tmention\tVERB\tVBN\tTense=Past|VerbForm=Part|Voice=Pass\t0\troot\t_\t_\n",
      "5\tbut\tbut\tCCONJ\tCC\t_\t12\tcc\t_\t_\n",
      "6\tthe\tthe\tDET\tDT\tDefinite=Def|PronType=Art\t7\tdet\t_\t_\n",
      "7\tgravity\tgravity\tNOUN\tNN\tNumber=Sing\t12\tnsubj:pass\t_\t_\n",
      "8\ton\ton\tADP\tIN\t_\t9\tcase\t_\t_\n",
      "9\tmars\tmar\tNOUN\tNNS\tNumber=Plur\t7\tnmod\t_\t_\n",
      "10\thas\thave\tAUX\tVBZ\tMood=Ind|Number=Sing|Person=3|Tense=Pres|VerbForm=Fin\t12\taux\t_\t_\n",
      "11\tbeen\tbe\tAUX\tVBN\tTense=Past|VerbForm=Part\t12\taux:pass\t_\t_\n",
      "12\tincreased\tincrease\tVERB\tVBN\tTense=Past|VerbForm=Part|Voice=Pass\t4\tconj\t_\t_\n",
      "13\tsomehow\tsomehow\tADV\tRB\t_\t12\tadvmod\t_\tSpaceAfter=No\n",
      "\n",
      "\n"
     ]
    }
   ],
   "source": [
    "con = get_conllu(model, sentence)\n",
    "print(con)"
   ]
  },
  {
   "cell_type": "code",
   "execution_count": 124,
   "metadata": {},
   "outputs": [
    {
     "data": {
      "text/plain": [
       "['1\\tit\\tit\\tPRON\\tPRP\\tCase=Nom|Gender=Neut|Number=Sing|Person=3|PronType=Prs\\t4\\tnsubj:pass\\t_\\t_\\n2\\tis\\tbe\\tAUX\\tVBZ\\tMood=Ind|Number=Sing|Person=3|Tense=Pres|VerbForm=Fin\\t4\\taux:pass\\t_\\t_\\n3\\tnever\\tnever\\tADV\\tRB\\t_\\t4\\tadvmod\\t_\\t_\\n4\\tmentioned\\tmention\\tVERB\\tVBN\\tTense=Past|VerbForm=Part|Voice=Pass\\t0\\troot\\t_\\t_\\n5\\tbut\\tbut\\tCCONJ\\tCC\\t_\\t12\\tcc\\t_\\t_\\n6\\tthe\\tthe\\tDET\\tDT\\tDefinite=Def|PronType=Art\\t7\\tdet\\t_\\t_\\n7\\tgravity\\tgravity\\tNOUN\\tNN\\tNumber=Sing\\t12\\tnsubj:pass\\t_\\t_\\n8\\ton\\ton\\tADP\\tIN\\t_\\t9\\tcase\\t_\\t_\\n9\\tmars\\tmar\\tNOUN\\tNNS\\tNumber=Plur\\t7\\tnmod\\t_\\t_\\n10\\thas\\thave\\tAUX\\tVBZ\\tMood=Ind|Number=Sing|Person=3|Tense=Pres|VerbForm=Fin\\t12\\taux\\t_\\t_\\n11\\tbeen\\tbe\\tAUX\\tVBN\\tTense=Past|VerbForm=Part\\t12\\taux:pass\\t_\\t_\\n12\\tincreased\\tincrease\\tVERB\\tVBN\\tTense=Past|VerbForm=Part|Voice=Pass\\t4\\tconj\\t_\\t_\\n13\\tsomehow\\tsomehow\\tADV\\tRB\\t_\\t12\\tadvmod\\t_\\tSpaceAfter=No',\n",
       " '']"
      ]
     },
     "execution_count": 124,
     "metadata": {},
     "output_type": "execute_result"
    }
   ],
   "source": [
    "prep = get_dep_tree(con)\n",
    "prep"
   ]
  },
  {
   "cell_type": "code",
   "execution_count": 125,
   "metadata": {
    "scrolled": true
   },
   "outputs": [
    {
     "data": {
      "text/plain": [
       "[((None, 'TOP'), 'root', ('mentioned', 'VERB')),\n",
       " (('mentioned', 'VERB'), 'nsubj:pass', ('it', 'PRON')),\n",
       " (('mentioned', 'VERB'), 'aux:pass', ('is', 'AUX')),\n",
       " (('mentioned', 'VERB'), 'advmod', ('never', 'ADV')),\n",
       " (('mentioned', 'VERB'), 'conj', ('increased', 'VERB')),\n",
       " (('increased', 'VERB'), 'cc', ('but', 'CCONJ')),\n",
       " (('increased', 'VERB'), 'nsubj:pass', ('gravity', 'NOUN')),\n",
       " (('gravity', 'NOUN'), 'det', ('the', 'DET')),\n",
       " (('gravity', 'NOUN'), 'nmod', ('mars', 'NOUN')),\n",
       " (('mars', 'NOUN'), 'case', ('on', 'ADP')),\n",
       " (('increased', 'VERB'), 'aux', ('has', 'AUX')),\n",
       " (('increased', 'VERB'), 'aux:pass', ('been', 'AUX')),\n",
       " (('increased', 'VERB'), 'advmod', ('somehow', 'ADV'))]"
      ]
     },
     "execution_count": 125,
     "metadata": {},
     "output_type": "execute_result"
    }
   ],
   "source": [
    "d = DependencyGraph(prep[0])\n",
    "d.root = d.nodes[0]\n",
    "nodes = list(d.triples())\n",
    "nodes"
   ]
  },
  {
   "cell_type": "code",
   "execution_count": 127,
   "metadata": {},
   "outputs": [
    {
     "name": "stdout",
     "output_type": "stream",
     "text": [
      "mentionedit\n",
      "mentionedis\n",
      "mentionednever\n",
      "mentionedincreased\n",
      "increasedbut\n",
      "increasedgravity\n",
      "gravitythe\n",
      "gravitymars\n",
      "marson\n",
      "increasedhas\n",
      "increasedbeen\n",
      "increasedsomehow\n"
     ]
    }
   ],
   "source": [
    "for i in range(1, len(nodes)):\n",
    "    print(str(nodes[i][0][0]) + str(nodes[i][2][0]))"
   ]
  },
  {
   "cell_type": "code",
   "execution_count": 11,
   "metadata": {},
   "outputs": [],
   "source": [
    "with open('2000english.txt', 'r', encoding='utf-8') as f:\n",
    "    file = f.readlines()"
   ]
  },
  {
   "cell_type": "code",
   "execution_count": 12,
   "metadata": {},
   "outputs": [
    {
     "data": {
      "text/plain": [
       "2000"
      ]
     },
     "execution_count": 12,
     "metadata": {},
     "output_type": "execute_result"
    }
   ],
   "source": [
    "len(file)"
   ]
  },
  {
   "cell_type": "code",
   "execution_count": 14,
   "metadata": {},
   "outputs": [],
   "source": [
    "file = [prep(i) for i in file]\n",
    "file = [split(i) for i in file]"
   ]
  },
  {
   "cell_type": "code",
   "execution_count": 16,
   "metadata": {},
   "outputs": [
    {
     "data": {
      "application/vnd.jupyter.widget-view+json": {
       "model_id": "2f9bce1f4ad546e9aa569321f9625f14",
       "version_major": 2,
       "version_minor": 0
      },
      "text/plain": [
       "HBox(children=(FloatProgress(value=0.0, max=2000.0), HTML(value='')))"
      ]
     },
     "metadata": {},
     "output_type": "display_data"
    },
    {
     "name": "stderr",
     "output_type": "stream",
     "text": [
      "C:\\Users\\1\\Anaconda3\\lib\\site-packages\\nltk\\parse\\dependencygraph.py:399: UserWarning: The graph doesn't contain a node that depends on the root element.\n",
      "  \"The graph doesn't contain a node \" \"that depends on the root element.\"\n"
     ]
    },
    {
     "name": "stdout",
     "output_type": "stream",
     "text": [
      "\n",
      "Wall time: 27min 26s\n"
     ]
    }
   ],
   "source": [
    "%%time\n",
    "\n",
    "pink = [] #список списков, для столбца - розовый\n",
    "blue = [] #единый список для строк - голубой \n",
    "for review in tqdm(file):\n",
    "    sentences = []\n",
    "    for sentence in review:\n",
    "        con = get_conllu(model, sentence)\n",
    "        prep = get_dep_tree(con)\n",
    "        d = DependencyGraph(prep[0])\n",
    "        d.root = d.nodes[0]\n",
    "        nodes = list(d.triples())\n",
    "        for i in range(1, len(nodes)):\n",
    "            bigram = (str(nodes[i][0][0]) + str(nodes[i][2][0]))\n",
    "            blue.append(bigram)\n",
    "            sentences.append(bigram)\n",
    "    pink.append(sentences)"
   ]
  },
  {
   "cell_type": "code",
   "execution_count": 17,
   "metadata": {},
   "outputs": [
    {
     "name": "stdout",
     "output_type": "stream",
     "text": [
      "Wall time: 885 ms\n"
     ]
    }
   ],
   "source": [
    "%%time\n",
    "with open('2000test.txt', 'w', encoding='utf-8') as f:\n",
    "    for review in pink:\n",
    "        print(*review, file=f)"
   ]
  },
  {
   "cell_type": "code",
   "execution_count": 18,
   "metadata": {},
   "outputs": [],
   "source": [
    "with open('2000test.txt', 'r', encoding='utf-8') as f:\n",
    "    text = f.readlines()"
   ]
  },
  {
   "cell_type": "code",
   "execution_count": 19,
   "metadata": {},
   "outputs": [],
   "source": [
    "text = [prep(i) for i in text]"
   ]
  },
  {
   "cell_type": "code",
   "execution_count": 20,
   "metadata": {},
   "outputs": [],
   "source": [
    "df = pd.DataFrame()\n",
    "df['text'] = text\n",
    "labels = np.array([0] * (len(text)//2) + [1] * (len(text)//2))\n",
    "df['labels'] = labels\n",
    "df = shuffle(df)"
   ]
  },
  {
   "cell_type": "code",
   "execution_count": 21,
   "metadata": {},
   "outputs": [],
   "source": [
    "vectorizer = TfidfVectorizer(max_features=100000)\n",
    "X = vectorizer.fit_transform(df[\"text\"])\n",
    "y = df['labels']"
   ]
  },
  {
   "cell_type": "code",
   "execution_count": 22,
   "metadata": {},
   "outputs": [],
   "source": [
    "X_train, X_test, y_train, y_test = train_test_split(X, y, test_size=0.2)"
   ]
  },
  {
   "cell_type": "markdown",
   "metadata": {},
   "source": [
    "##### LogisticRegression"
   ]
  },
  {
   "cell_type": "code",
   "execution_count": 23,
   "metadata": {},
   "outputs": [
    {
     "name": "stderr",
     "output_type": "stream",
     "text": [
      "C:\\Users\\1\\Anaconda3\\lib\\site-packages\\sklearn\\linear_model\\logistic.py:432: FutureWarning: Default solver will be changed to 'lbfgs' in 0.22. Specify a solver to silence this warning.\n",
      "  FutureWarning)\n"
     ]
    }
   ],
   "source": [
    "log = LogisticRegression()\n",
    "log.fit(X_train, y_train)\n",
    "y_train_pred = log.predict(X_train)\n",
    "y_test_pred = log.predict(X_test)"
   ]
  },
  {
   "cell_type": "code",
   "execution_count": 24,
   "metadata": {},
   "outputs": [
    {
     "data": {
      "text/plain": [
       "(0.8349514563106796, 0.86, 0.8472906403940887)"
      ]
     },
     "execution_count": 24,
     "metadata": {},
     "output_type": "execute_result"
    }
   ],
   "source": [
    "precision_score(y_test, y_test_pred), recall_score(y_test, y_test_pred), f1_score(y_test, y_test_pred)"
   ]
  },
  {
   "cell_type": "code",
   "execution_count": 25,
   "metadata": {},
   "outputs": [
    {
     "data": {
      "text/plain": [
       "0.845"
      ]
     },
     "execution_count": 25,
     "metadata": {},
     "output_type": "execute_result"
    }
   ],
   "source": [
    "accuracy_score(y_test, y_test_pred, normalize=True, sample_weight=None)"
   ]
  },
  {
   "cell_type": "markdown",
   "metadata": {},
   "source": [
    "precision_score, recall_score, f1_score"
   ]
  },
  {
   "cell_type": "code",
   "execution_count": 61,
   "metadata": {
    "scrolled": true
   },
   "outputs": [
    {
     "name": "stderr",
     "output_type": "stream",
     "text": [
      "C:\\Users\\1\\Anaconda3\\lib\\site-packages\\sklearn\\linear_model\\logistic.py:432: FutureWarning: Default solver will be changed to 'lbfgs' in 0.22. Specify a solver to silence this warning.\n",
      "  FutureWarning)\n",
      "C:\\Users\\1\\Anaconda3\\lib\\site-packages\\sklearn\\linear_model\\logistic.py:432: FutureWarning: Default solver will be changed to 'lbfgs' in 0.22. Specify a solver to silence this warning.\n",
      "  FutureWarning)\n",
      "C:\\Users\\1\\Anaconda3\\lib\\site-packages\\sklearn\\linear_model\\logistic.py:432: FutureWarning: Default solver will be changed to 'lbfgs' in 0.22. Specify a solver to silence this warning.\n",
      "  FutureWarning)\n"
     ]
    },
    {
     "data": {
      "text/plain": [
       "(0.8282492715071557, 0.8200000000000001, 0.8237976099684964)"
      ]
     },
     "execution_count": 61,
     "metadata": {},
     "output_type": "execute_result"
    }
   ],
   "source": [
    "(cross_val_score(log, X, y, cv=10, scoring='precision').mean(), cross_val_score(log, X, y, cv=10, scoring='recall').mean(), cross_val_score(log, X, y, cv=10, scoring='f1').mean())"
   ]
  },
  {
   "cell_type": "markdown",
   "metadata": {},
   "source": [
    "accuracy_score"
   ]
  },
  {
   "cell_type": "code",
   "execution_count": 101,
   "metadata": {},
   "outputs": [
    {
     "name": "stderr",
     "output_type": "stream",
     "text": [
      "C:\\Users\\1\\Anaconda3\\lib\\site-packages\\sklearn\\linear_model\\logistic.py:432: FutureWarning: Default solver will be changed to 'lbfgs' in 0.22. Specify a solver to silence this warning.\n",
      "  FutureWarning)\n"
     ]
    },
    {
     "data": {
      "text/plain": [
       "0.8244999999999999"
      ]
     },
     "execution_count": 101,
     "metadata": {},
     "output_type": "execute_result"
    }
   ],
   "source": [
    "cross_val_score(log, X, y, cv=10).mean()"
   ]
  },
  {
   "cell_type": "markdown",
   "metadata": {},
   "source": [
    "#### KNN"
   ]
  },
  {
   "cell_type": "code",
   "execution_count": 100,
   "metadata": {},
   "outputs": [],
   "source": [
    "knn = KNeighborsClassifier()"
   ]
  },
  {
   "cell_type": "markdown",
   "metadata": {},
   "source": [
    "precision_score, recall_score, f1_score"
   ]
  },
  {
   "cell_type": "code",
   "execution_count": 81,
   "metadata": {
    "scrolled": true
   },
   "outputs": [
    {
     "data": {
      "text/plain": [
       "(0.6888589334577266, 0.719, 0.7032323525955595)"
      ]
     },
     "execution_count": 81,
     "metadata": {},
     "output_type": "execute_result"
    }
   ],
   "source": [
    "(cross_val_score(knn, X, y, cv=10, scoring='precision').mean(), cross_val_score(knn, X, y, cv=10, scoring='recall').mean(), cross_val_score(knn, X, y, cv=10, scoring='f1').mean())"
   ]
  },
  {
   "cell_type": "markdown",
   "metadata": {},
   "source": [
    "accuracy_score"
   ]
  },
  {
   "cell_type": "code",
   "execution_count": 97,
   "metadata": {},
   "outputs": [
    {
     "data": {
      "text/plain": [
       "0.6965"
      ]
     },
     "execution_count": 97,
     "metadata": {},
     "output_type": "execute_result"
    }
   ],
   "source": [
    "cross_val_score(knn, X, y, cv=10).mean()"
   ]
  },
  {
   "cell_type": "markdown",
   "metadata": {},
   "source": [
    "#### MultinomialNB"
   ]
  },
  {
   "cell_type": "code",
   "execution_count": 99,
   "metadata": {},
   "outputs": [],
   "source": [
    "clf = MultinomialNB()"
   ]
  },
  {
   "cell_type": "markdown",
   "metadata": {},
   "source": [
    "precision_score, recall_score, f1_score"
   ]
  },
  {
   "cell_type": "code",
   "execution_count": 96,
   "metadata": {
    "scrolled": true
   },
   "outputs": [
    {
     "data": {
      "text/plain": [
       "(0.8401053230486397, 0.8400000000000001, 0.8397005047073824)"
      ]
     },
     "execution_count": 96,
     "metadata": {},
     "output_type": "execute_result"
    }
   ],
   "source": [
    "(cross_val_score(clf, X, y, cv=10, scoring='precision').mean(), cross_val_score(clf, X, y, cv=10, scoring='recall').mean(), cross_val_score(clf, X, y, cv=10, scoring='f1').mean())"
   ]
  },
  {
   "cell_type": "markdown",
   "metadata": {},
   "source": [
    "accuracy_score"
   ]
  },
  {
   "cell_type": "code",
   "execution_count": 98,
   "metadata": {},
   "outputs": [
    {
     "data": {
      "text/plain": [
       "0.8394999999999999"
      ]
     },
     "execution_count": 98,
     "metadata": {},
     "output_type": "execute_result"
    }
   ],
   "source": [
    "cross_val_score(clf, X, y, cv=10).mean()"
   ]
  }
 ],
 "metadata": {
  "kernelspec": {
   "display_name": "Python 3",
   "language": "python",
   "name": "python3"
  },
  "language_info": {
   "codemirror_mode": {
    "name": "ipython",
    "version": 3
   },
   "file_extension": ".py",
   "mimetype": "text/x-python",
   "name": "python",
   "nbconvert_exporter": "python",
   "pygments_lexer": "ipython3",
   "version": "3.7.4"
  }
 },
 "nbformat": 4,
 "nbformat_minor": 2
}
