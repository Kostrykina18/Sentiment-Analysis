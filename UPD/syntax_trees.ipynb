{
 "cells": [
  {
   "cell_type": "code",
   "execution_count": 3,
   "metadata": {},
   "outputs": [],
   "source": [
    "import re\n",
    "import numpy as np\n",
    "import pandas as pd\n",
    "from tqdm.auto import tqdm\n",
    "\n",
    "import ufal.udpipe\n",
    "from model import Model\n",
    "import conllu\n",
    "from collections import defaultdict\n",
    "from nltk.parse import DependencyGraph"
   ]
  },
  {
   "cell_type": "code",
   "execution_count": 4,
   "metadata": {},
   "outputs": [],
   "source": [
    "model = Model('english-ewt-ud-2.5-191206.udpipe')"
   ]
  },
  {
   "cell_type": "code",
   "execution_count": 5,
   "metadata": {},
   "outputs": [],
   "source": [
    "def get_conllu(model, text):\n",
    "    sentences = model.tokenize(text)\n",
    "    for s in sentences:\n",
    "        model.tag(s)\n",
    "        model.parse(s)\n",
    "    conllu_text = model.write(sentences, \"conllu\")\n",
    "    return conllu_text"
   ]
  },
  {
   "cell_type": "code",
   "execution_count": 6,
   "metadata": {},
   "outputs": [],
   "source": [
    "def get_dep_tree(text):\n",
    "    trees = []\n",
    "    for sent in text.split('\\n\\n'):\n",
    "        tree = [line for line in sent.split('\\n') if line and line[0] != '#']\n",
    "        trees.append('\\n'.join(tree))\n",
    "    return trees"
   ]
  },
  {
   "cell_type": "code",
   "execution_count": 7,
   "metadata": {},
   "outputs": [],
   "source": [
    "df = pd.read_csv('movie.csv')"
   ]
  },
  {
   "cell_type": "code",
   "execution_count": 8,
   "metadata": {
    "scrolled": true
   },
   "outputs": [
    {
     "data": {
      "text/html": [
       "<div>\n",
       "<style scoped>\n",
       "    .dataframe tbody tr th:only-of-type {\n",
       "        vertical-align: middle;\n",
       "    }\n",
       "\n",
       "    .dataframe tbody tr th {\n",
       "        vertical-align: top;\n",
       "    }\n",
       "\n",
       "    .dataframe thead th {\n",
       "        text-align: right;\n",
       "    }\n",
       "</style>\n",
       "<table border=\"1\" class=\"dataframe\">\n",
       "  <thead>\n",
       "    <tr style=\"text-align: right;\">\n",
       "      <th></th>\n",
       "      <th>text</th>\n",
       "      <th>labels</th>\n",
       "    </tr>\n",
       "  </thead>\n",
       "  <tbody>\n",
       "    <tr>\n",
       "      <td>0</td>\n",
       "      <td>plot two teen couples go to a church party dri...</td>\n",
       "      <td>0.0</td>\n",
       "    </tr>\n",
       "    <tr>\n",
       "      <td>1</td>\n",
       "      <td>the happy bastard s quick movie review damn th...</td>\n",
       "      <td>0.0</td>\n",
       "    </tr>\n",
       "    <tr>\n",
       "      <td>2</td>\n",
       "      <td>it is movies like these that make a jaded movi...</td>\n",
       "      <td>0.0</td>\n",
       "    </tr>\n",
       "    <tr>\n",
       "      <td>3</td>\n",
       "      <td>quest for camelot is warner bros . first featu...</td>\n",
       "      <td>0.0</td>\n",
       "    </tr>\n",
       "    <tr>\n",
       "      <td>4</td>\n",
       "      <td>synopsis a mentally unstable man undergoing ps...</td>\n",
       "      <td>0.0</td>\n",
       "    </tr>\n",
       "    <tr>\n",
       "      <td>...</td>\n",
       "      <td>...</td>\n",
       "      <td>...</td>\n",
       "    </tr>\n",
       "    <tr>\n",
       "      <td>1995</td>\n",
       "      <td>wow what a movie . it s everything a movie can...</td>\n",
       "      <td>1.0</td>\n",
       "    </tr>\n",
       "    <tr>\n",
       "      <td>1996</td>\n",
       "      <td>richard gere can be a commanding actor but he ...</td>\n",
       "      <td>1.0</td>\n",
       "    </tr>\n",
       "    <tr>\n",
       "      <td>1997</td>\n",
       "      <td>glory starring matthew broderick denzel washin...</td>\n",
       "      <td>1.0</td>\n",
       "    </tr>\n",
       "    <tr>\n",
       "      <td>1998</td>\n",
       "      <td>steven spielberg s second epic film on world w...</td>\n",
       "      <td>1.0</td>\n",
       "    </tr>\n",
       "    <tr>\n",
       "      <td>1999</td>\n",
       "      <td>truman true man burbank is the perfect name fo...</td>\n",
       "      <td>1.0</td>\n",
       "    </tr>\n",
       "  </tbody>\n",
       "</table>\n",
       "<p>2000 rows × 2 columns</p>\n",
       "</div>"
      ],
      "text/plain": [
       "                                                   text  labels\n",
       "0     plot two teen couples go to a church party dri...     0.0\n",
       "1     the happy bastard s quick movie review damn th...     0.0\n",
       "2     it is movies like these that make a jaded movi...     0.0\n",
       "3     quest for camelot is warner bros . first featu...     0.0\n",
       "4     synopsis a mentally unstable man undergoing ps...     0.0\n",
       "...                                                 ...     ...\n",
       "1995  wow what a movie . it s everything a movie can...     1.0\n",
       "1996  richard gere can be a commanding actor but he ...     1.0\n",
       "1997  glory starring matthew broderick denzel washin...     1.0\n",
       "1998  steven spielberg s second epic film on world w...     1.0\n",
       "1999  truman true man burbank is the perfect name fo...     1.0\n",
       "\n",
       "[2000 rows x 2 columns]"
      ]
     },
     "execution_count": 8,
     "metadata": {},
     "output_type": "execute_result"
    }
   ],
   "source": [
    "df"
   ]
  },
  {
   "cell_type": "code",
   "execution_count": 24,
   "metadata": {},
   "outputs": [],
   "source": [
    "sentence = 'it is never mentioned but the gravity on mars has been increased somehow'"
   ]
  },
  {
   "cell_type": "code",
   "execution_count": 25,
   "metadata": {},
   "outputs": [
    {
     "name": "stdout",
     "output_type": "stream",
     "text": [
      "# newdoc\n",
      "# newpar\n",
      "# sent_id = 1\n",
      "# text = it is never mentioned but the gravity on mars has been increased somehow\n",
      "1\tit\tit\tPRON\tPRP\tCase=Nom|Gender=Neut|Number=Sing|Person=3|PronType=Prs\t4\tnsubj:pass\t_\t_\n",
      "2\tis\tbe\tAUX\tVBZ\tMood=Ind|Number=Sing|Person=3|Tense=Pres|VerbForm=Fin\t4\taux:pass\t_\t_\n",
      "3\tnever\tnever\tADV\tRB\t_\t4\tadvmod\t_\t_\n",
      "4\tmentioned\tmention\tVERB\tVBN\tTense=Past|VerbForm=Part|Voice=Pass\t0\troot\t_\t_\n",
      "5\tbut\tbut\tCCONJ\tCC\t_\t12\tcc\t_\t_\n",
      "6\tthe\tthe\tDET\tDT\tDefinite=Def|PronType=Art\t7\tdet\t_\t_\n",
      "7\tgravity\tgravity\tNOUN\tNN\tNumber=Sing\t12\tnsubj:pass\t_\t_\n",
      "8\ton\ton\tADP\tIN\t_\t9\tcase\t_\t_\n",
      "9\tmars\tmar\tNOUN\tNNS\tNumber=Plur\t7\tnmod\t_\t_\n",
      "10\thas\thave\tAUX\tVBZ\tMood=Ind|Number=Sing|Person=3|Tense=Pres|VerbForm=Fin\t12\taux\t_\t_\n",
      "11\tbeen\tbe\tAUX\tVBN\tTense=Past|VerbForm=Part\t12\taux:pass\t_\t_\n",
      "12\tincreased\tincrease\tVERB\tVBN\tTense=Past|VerbForm=Part|Voice=Pass\t4\tconj\t_\t_\n",
      "13\tsomehow\tsomehow\tADV\tRB\t_\t12\tadvmod\t_\tSpaceAfter=No\n",
      "\n",
      "\n"
     ]
    }
   ],
   "source": [
    "con = get_conllu(model, sentence)\n",
    "print(con)"
   ]
  },
  {
   "cell_type": "code",
   "execution_count": 26,
   "metadata": {},
   "outputs": [
    {
     "data": {
      "text/plain": [
       "['1\\tit\\tit\\tPRON\\tPRP\\tCase=Nom|Gender=Neut|Number=Sing|Person=3|PronType=Prs\\t4\\tnsubj:pass\\t_\\t_\\n2\\tis\\tbe\\tAUX\\tVBZ\\tMood=Ind|Number=Sing|Person=3|Tense=Pres|VerbForm=Fin\\t4\\taux:pass\\t_\\t_\\n3\\tnever\\tnever\\tADV\\tRB\\t_\\t4\\tadvmod\\t_\\t_\\n4\\tmentioned\\tmention\\tVERB\\tVBN\\tTense=Past|VerbForm=Part|Voice=Pass\\t0\\troot\\t_\\t_\\n5\\tbut\\tbut\\tCCONJ\\tCC\\t_\\t12\\tcc\\t_\\t_\\n6\\tthe\\tthe\\tDET\\tDT\\tDefinite=Def|PronType=Art\\t7\\tdet\\t_\\t_\\n7\\tgravity\\tgravity\\tNOUN\\tNN\\tNumber=Sing\\t12\\tnsubj:pass\\t_\\t_\\n8\\ton\\ton\\tADP\\tIN\\t_\\t9\\tcase\\t_\\t_\\n9\\tmars\\tmar\\tNOUN\\tNNS\\tNumber=Plur\\t7\\tnmod\\t_\\t_\\n10\\thas\\thave\\tAUX\\tVBZ\\tMood=Ind|Number=Sing|Person=3|Tense=Pres|VerbForm=Fin\\t12\\taux\\t_\\t_\\n11\\tbeen\\tbe\\tAUX\\tVBN\\tTense=Past|VerbForm=Part\\t12\\taux:pass\\t_\\t_\\n12\\tincreased\\tincrease\\tVERB\\tVBN\\tTense=Past|VerbForm=Part|Voice=Pass\\t4\\tconj\\t_\\t_\\n13\\tsomehow\\tsomehow\\tADV\\tRB\\t_\\t12\\tadvmod\\t_\\tSpaceAfter=No',\n",
       " '']"
      ]
     },
     "execution_count": 26,
     "metadata": {},
     "output_type": "execute_result"
    }
   ],
   "source": [
    "prep = get_dep_tree(con)\n",
    "prep"
   ]
  },
  {
   "cell_type": "code",
   "execution_count": 27,
   "metadata": {},
   "outputs": [
    {
     "data": {
      "text/plain": [
       "[((None, 'TOP'), 'root', ('mentioned', 'VERB')),\n",
       " (('mentioned', 'VERB'), 'nsubj:pass', ('it', 'PRON')),\n",
       " (('mentioned', 'VERB'), 'aux:pass', ('is', 'AUX')),\n",
       " (('mentioned', 'VERB'), 'advmod', ('never', 'ADV')),\n",
       " (('mentioned', 'VERB'), 'conj', ('increased', 'VERB')),\n",
       " (('increased', 'VERB'), 'cc', ('but', 'CCONJ')),\n",
       " (('increased', 'VERB'), 'nsubj:pass', ('gravity', 'NOUN')),\n",
       " (('gravity', 'NOUN'), 'det', ('the', 'DET')),\n",
       " (('gravity', 'NOUN'), 'nmod', ('mars', 'NOUN')),\n",
       " (('mars', 'NOUN'), 'case', ('on', 'ADP')),\n",
       " (('increased', 'VERB'), 'aux', ('has', 'AUX')),\n",
       " (('increased', 'VERB'), 'aux:pass', ('been', 'AUX')),\n",
       " (('increased', 'VERB'), 'advmod', ('somehow', 'ADV'))]"
      ]
     },
     "execution_count": 27,
     "metadata": {},
     "output_type": "execute_result"
    }
   ],
   "source": [
    "d = DependencyGraph(prep[0])\n",
    "d.root = d.nodes[0]\n",
    "nodes = list(d.triples())\n",
    "nodes"
   ]
  },
  {
   "cell_type": "code",
   "execution_count": 28,
   "metadata": {},
   "outputs": [
    {
     "name": "stdout",
     "output_type": "stream",
     "text": [
      "mentionedit\n",
      "mentionedis\n",
      "mentionednever\n",
      "mentionedincreased\n",
      "increasedbut\n",
      "increasedgravity\n",
      "gravitythe\n",
      "gravitymars\n",
      "marson\n",
      "increasedhas\n",
      "increasedbeen\n",
      "increasedsomehow\n"
     ]
    }
   ],
   "source": [
    "for i in range(1, len(nodes)):\n",
    "    print(str(nodes[i][0][0]) + str(nodes[i][2][0]))"
   ]
  },
  {
   "cell_type": "code",
   "execution_count": 29,
   "metadata": {},
   "outputs": [
    {
     "data": {
      "application/vnd.jupyter.widget-view+json": {
       "model_id": "f0ca0ac9093b4e068537f5b3e30ce33e",
       "version_major": 2,
       "version_minor": 0
      },
      "text/plain": [
       "HBox(children=(FloatProgress(value=0.0, max=2000.0), HTML(value='')))"
      ]
     },
     "metadata": {},
     "output_type": "display_data"
    },
    {
     "name": "stdout",
     "output_type": "stream",
     "text": [
      "\n",
      "Wall time: 27min 42s\n"
     ]
    }
   ],
   "source": [
    "%%time\n",
    "\n",
    "text = []\n",
    "for review in tqdm(df['text']):\n",
    "    sentences = []\n",
    "    for sentence in review.split(' . '):\n",
    "        con = get_conllu(model, sentence)\n",
    "        prep = get_dep_tree(con)\n",
    "        d = DependencyGraph(prep[0])\n",
    "        d.root = d.nodes[0]\n",
    "        nodes = list(d.triples())\n",
    "        for i in range(1, len(nodes)):\n",
    "            bigram = (str(nodes[i][0][0]) + str(nodes[i][2][0]))\n",
    "            sentences.append(bigram)\n",
    "    text.append(' '.join(sentences))"
   ]
  },
  {
   "cell_type": "code",
   "execution_count": 31,
   "metadata": {},
   "outputs": [],
   "source": [
    "df['sin_text'] = text"
   ]
  },
  {
   "cell_type": "code",
   "execution_count": 32,
   "metadata": {
    "scrolled": true
   },
   "outputs": [
    {
     "data": {
      "text/html": [
       "<div>\n",
       "<style scoped>\n",
       "    .dataframe tbody tr th:only-of-type {\n",
       "        vertical-align: middle;\n",
       "    }\n",
       "\n",
       "    .dataframe tbody tr th {\n",
       "        vertical-align: top;\n",
       "    }\n",
       "\n",
       "    .dataframe thead th {\n",
       "        text-align: right;\n",
       "    }\n",
       "</style>\n",
       "<table border=\"1\" class=\"dataframe\">\n",
       "  <thead>\n",
       "    <tr style=\"text-align: right;\">\n",
       "      <th></th>\n",
       "      <th>text</th>\n",
       "      <th>labels</th>\n",
       "      <th>sin_text</th>\n",
       "    </tr>\n",
       "  </thead>\n",
       "  <tbody>\n",
       "    <tr>\n",
       "      <td>0</td>\n",
       "      <td>plot two teen couples go to a church party dri...</td>\n",
       "      <td>0.0</td>\n",
       "      <td>plotcouples couplestwo couplesteen plotgo godr...</td>\n",
       "    </tr>\n",
       "    <tr>\n",
       "      <td>1</td>\n",
       "      <td>the happy bastard s quick movie review damn th...</td>\n",
       "      <td>0.0</td>\n",
       "      <td>damnbastard bastardthe bastardhappy bastards d...</td>\n",
       "    </tr>\n",
       "    <tr>\n",
       "      <td>2</td>\n",
       "      <td>it is movies like these that make a jaded movi...</td>\n",
       "      <td>0.0</td>\n",
       "      <td>isit ismovies moviesthese theselike movieswatc...</td>\n",
       "    </tr>\n",
       "    <tr>\n",
       "      <td>3</td>\n",
       "      <td>quest for camelot is warner bros . first featu...</td>\n",
       "      <td>0.0</td>\n",
       "      <td>questcamelot camelotfor questbros brosis brosw...</td>\n",
       "    </tr>\n",
       "    <tr>\n",
       "      <td>4</td>\n",
       "      <td>synopsis a mentally unstable man undergoing ps...</td>\n",
       "      <td>0.0</td>\n",
       "      <td>synopsissaves savespsychotherapy psychotherapy...</td>\n",
       "    </tr>\n",
       "    <tr>\n",
       "      <td>...</td>\n",
       "      <td>...</td>\n",
       "      <td>...</td>\n",
       "      <td>...</td>\n",
       "    </tr>\n",
       "    <tr>\n",
       "      <td>1995</td>\n",
       "      <td>wow what a movie . it s everything a movie can...</td>\n",
       "      <td>1.0</td>\n",
       "      <td>moviewow moviewhat moviea originalit originalm...</td>\n",
       "    </tr>\n",
       "    <tr>\n",
       "      <td>1996</td>\n",
       "      <td>richard gere can be a commanding actor but he ...</td>\n",
       "      <td>1.0</td>\n",
       "      <td>actorgere gererichard actorcan actorbe actora ...</td>\n",
       "    </tr>\n",
       "    <tr>\n",
       "      <td>1997</td>\n",
       "      <td>glory starring matthew broderick denzel washin...</td>\n",
       "      <td>1.0</td>\n",
       "      <td>storyglory glorywashington washingtonstarring ...</td>\n",
       "    </tr>\n",
       "    <tr>\n",
       "      <td>1998</td>\n",
       "      <td>steven spielberg s second epic film on world w...</td>\n",
       "      <td>1.0</td>\n",
       "      <td>masterpiecefilm filmspielberg spielbergsteven ...</td>\n",
       "    </tr>\n",
       "    <tr>\n",
       "      <td>1999</td>\n",
       "      <td>truman true man burbank is the perfect name fo...</td>\n",
       "      <td>1.0</td>\n",
       "      <td>nameburbank burbanktruman burbanktrue burbankm...</td>\n",
       "    </tr>\n",
       "  </tbody>\n",
       "</table>\n",
       "<p>2000 rows × 3 columns</p>\n",
       "</div>"
      ],
      "text/plain": [
       "                                                   text  labels  \\\n",
       "0     plot two teen couples go to a church party dri...     0.0   \n",
       "1     the happy bastard s quick movie review damn th...     0.0   \n",
       "2     it is movies like these that make a jaded movi...     0.0   \n",
       "3     quest for camelot is warner bros . first featu...     0.0   \n",
       "4     synopsis a mentally unstable man undergoing ps...     0.0   \n",
       "...                                                 ...     ...   \n",
       "1995  wow what a movie . it s everything a movie can...     1.0   \n",
       "1996  richard gere can be a commanding actor but he ...     1.0   \n",
       "1997  glory starring matthew broderick denzel washin...     1.0   \n",
       "1998  steven spielberg s second epic film on world w...     1.0   \n",
       "1999  truman true man burbank is the perfect name fo...     1.0   \n",
       "\n",
       "                                               sin_text  \n",
       "0     plotcouples couplestwo couplesteen plotgo godr...  \n",
       "1     damnbastard bastardthe bastardhappy bastards d...  \n",
       "2     isit ismovies moviesthese theselike movieswatc...  \n",
       "3     questcamelot camelotfor questbros brosis brosw...  \n",
       "4     synopsissaves savespsychotherapy psychotherapy...  \n",
       "...                                                 ...  \n",
       "1995  moviewow moviewhat moviea originalit originalm...  \n",
       "1996  actorgere gererichard actorcan actorbe actora ...  \n",
       "1997  storyglory glorywashington washingtonstarring ...  \n",
       "1998  masterpiecefilm filmspielberg spielbergsteven ...  \n",
       "1999  nameburbank burbanktruman burbanktrue burbankm...  \n",
       "\n",
       "[2000 rows x 3 columns]"
      ]
     },
     "execution_count": 32,
     "metadata": {},
     "output_type": "execute_result"
    }
   ],
   "source": [
    "df"
   ]
  },
  {
   "cell_type": "code",
   "execution_count": 44,
   "metadata": {},
   "outputs": [],
   "source": [
    "df.to_csv('sin_movie.csv', index=False)"
   ]
  },
  {
   "cell_type": "code",
   "execution_count": 37,
   "metadata": {},
   "outputs": [],
   "source": [
    "df = pd.read_csv('sin_movie.csv')"
   ]
  },
  {
   "cell_type": "code",
   "execution_count": 38,
   "metadata": {},
   "outputs": [],
   "source": [
    "from nltk.stem import WordNetLemmatizer\n",
    "lem = WordNetLemmatizer()"
   ]
  },
  {
   "cell_type": "code",
   "execution_count": 41,
   "metadata": {},
   "outputs": [
    {
     "data": {
      "text/plain": [
       "'m'"
      ]
     },
     "execution_count": 41,
     "metadata": {},
     "output_type": "execute_result"
    }
   ],
   "source": [
    "lem.lemmatize('m')"
   ]
  },
  {
   "cell_type": "code",
   "execution_count": 39,
   "metadata": {
    "scrolled": true
   },
   "outputs": [
    {
     "data": {
      "application/vnd.jupyter.widget-view+json": {
       "model_id": "f772d7593dd149f7926ac6a69cb90d70",
       "version_major": 2,
       "version_minor": 0
      },
      "text/plain": [
       "HBox(children=(FloatProgress(value=0.0, max=2000.0), HTML(value='')))"
      ]
     },
     "metadata": {},
     "output_type": "display_data"
    },
    {
     "name": "stderr",
     "output_type": "stream",
     "text": [
      "C:\\Users\\1\\Anaconda3\\lib\\site-packages\\nltk\\parse\\dependencygraph.py:399: UserWarning: The graph doesn't contain a node that depends on the root element.\n",
      "  \"The graph doesn't contain a node \" \"that depends on the root element.\"\n"
     ]
    },
    {
     "name": "stdout",
     "output_type": "stream",
     "text": [
      "\n",
      "Wall time: 34min 29s\n"
     ]
    }
   ],
   "source": [
    "%%time\n",
    "\n",
    "lemm_text = []\n",
    "for review in tqdm(df['text']):\n",
    "    sentences = []\n",
    "    for sentence in review.split(' . '):\n",
    "        con = get_conllu(model, sentence)\n",
    "        prep = get_dep_tree(con)\n",
    "        d = DependencyGraph(prep[0])\n",
    "        d.root = d.nodes[0]\n",
    "        nodes = list(d.triples())\n",
    "        for i in range(1, len(nodes)):\n",
    "            bigram = (str(lem.lemmatize(nodes[i][0][0])) + str(lem.lemmatize(nodes[i][2][0])))\n",
    "            sentences.append(bigram)\n",
    "    lemm_text.append(' '.join(sentences))"
   ]
  },
  {
   "cell_type": "code",
   "execution_count": 40,
   "metadata": {},
   "outputs": [],
   "source": [
    "df['lemm_sin_text'] = lemm_text"
   ]
  },
  {
   "cell_type": "code",
   "execution_count": 41,
   "metadata": {},
   "outputs": [
    {
     "data": {
      "text/html": [
       "<div>\n",
       "<style scoped>\n",
       "    .dataframe tbody tr th:only-of-type {\n",
       "        vertical-align: middle;\n",
       "    }\n",
       "\n",
       "    .dataframe tbody tr th {\n",
       "        vertical-align: top;\n",
       "    }\n",
       "\n",
       "    .dataframe thead th {\n",
       "        text-align: right;\n",
       "    }\n",
       "</style>\n",
       "<table border=\"1\" class=\"dataframe\">\n",
       "  <thead>\n",
       "    <tr style=\"text-align: right;\">\n",
       "      <th></th>\n",
       "      <th>text</th>\n",
       "      <th>labels</th>\n",
       "      <th>sin_text</th>\n",
       "      <th>lemm_sin_text</th>\n",
       "    </tr>\n",
       "  </thead>\n",
       "  <tbody>\n",
       "    <tr>\n",
       "      <td>0</td>\n",
       "      <td>plot two teen couples go to a church party dri...</td>\n",
       "      <td>0.0</td>\n",
       "      <td>plotcouples couplestwo couplesteen plotgo godr...</td>\n",
       "      <td>plotcouple coupletwo coupleteen plotgo godrink...</td>\n",
       "    </tr>\n",
       "    <tr>\n",
       "      <td>1</td>\n",
       "      <td>the happy bastard s quick movie review damn th...</td>\n",
       "      <td>0.0</td>\n",
       "      <td>damnbastard bastardthe bastardhappy bastards d...</td>\n",
       "      <td>damnbastard bastardthe bastardhappy bastards d...</td>\n",
       "    </tr>\n",
       "    <tr>\n",
       "      <td>2</td>\n",
       "      <td>it is movies like these that make a jaded movi...</td>\n",
       "      <td>0.0</td>\n",
       "      <td>isit ismovies moviesthese theselike movieswatc...</td>\n",
       "      <td>isit ismovie moviethese theselike moviewatch w...</td>\n",
       "    </tr>\n",
       "    <tr>\n",
       "      <td>3</td>\n",
       "      <td>quest for camelot is warner bros . first featu...</td>\n",
       "      <td>0.0</td>\n",
       "      <td>questcamelot camelotfor questbros brosis brosw...</td>\n",
       "      <td>questcamelot camelotfor questbros brosis brosw...</td>\n",
       "    </tr>\n",
       "    <tr>\n",
       "      <td>4</td>\n",
       "      <td>synopsis a mentally unstable man undergoing ps...</td>\n",
       "      <td>0.0</td>\n",
       "      <td>synopsissaves savespsychotherapy psychotherapy...</td>\n",
       "      <td>synopsissave savepsychotherapy psychotherapya ...</td>\n",
       "    </tr>\n",
       "    <tr>\n",
       "      <td>...</td>\n",
       "      <td>...</td>\n",
       "      <td>...</td>\n",
       "      <td>...</td>\n",
       "      <td>...</td>\n",
       "    </tr>\n",
       "    <tr>\n",
       "      <td>1995</td>\n",
       "      <td>wow what a movie . it s everything a movie can...</td>\n",
       "      <td>1.0</td>\n",
       "      <td>moviewow moviewhat moviea originalit originalm...</td>\n",
       "      <td>moviewow moviewhat moviea originalit originalm...</td>\n",
       "    </tr>\n",
       "    <tr>\n",
       "      <td>1996</td>\n",
       "      <td>richard gere can be a commanding actor but he ...</td>\n",
       "      <td>1.0</td>\n",
       "      <td>actorgere gererichard actorcan actorbe actora ...</td>\n",
       "      <td>actorgere gererichard actorcan actorbe actora ...</td>\n",
       "    </tr>\n",
       "    <tr>\n",
       "      <td>1997</td>\n",
       "      <td>glory starring matthew broderick denzel washin...</td>\n",
       "      <td>1.0</td>\n",
       "      <td>storyglory glorywashington washingtonstarring ...</td>\n",
       "      <td>storyglory glorywashington washingtonstarring ...</td>\n",
       "    </tr>\n",
       "    <tr>\n",
       "      <td>1998</td>\n",
       "      <td>steven spielberg s second epic film on world w...</td>\n",
       "      <td>1.0</td>\n",
       "      <td>masterpiecefilm filmspielberg spielbergsteven ...</td>\n",
       "      <td>masterpiecefilm filmspielberg spielbergsteven ...</td>\n",
       "    </tr>\n",
       "    <tr>\n",
       "      <td>1999</td>\n",
       "      <td>truman true man burbank is the perfect name fo...</td>\n",
       "      <td>1.0</td>\n",
       "      <td>nameburbank burbanktruman burbanktrue burbankm...</td>\n",
       "      <td>nameburbank burbanktruman burbanktrue burbankm...</td>\n",
       "    </tr>\n",
       "  </tbody>\n",
       "</table>\n",
       "<p>2000 rows × 4 columns</p>\n",
       "</div>"
      ],
      "text/plain": [
       "                                                   text  labels  \\\n",
       "0     plot two teen couples go to a church party dri...     0.0   \n",
       "1     the happy bastard s quick movie review damn th...     0.0   \n",
       "2     it is movies like these that make a jaded movi...     0.0   \n",
       "3     quest for camelot is warner bros . first featu...     0.0   \n",
       "4     synopsis a mentally unstable man undergoing ps...     0.0   \n",
       "...                                                 ...     ...   \n",
       "1995  wow what a movie . it s everything a movie can...     1.0   \n",
       "1996  richard gere can be a commanding actor but he ...     1.0   \n",
       "1997  glory starring matthew broderick denzel washin...     1.0   \n",
       "1998  steven spielberg s second epic film on world w...     1.0   \n",
       "1999  truman true man burbank is the perfect name fo...     1.0   \n",
       "\n",
       "                                               sin_text  \\\n",
       "0     plotcouples couplestwo couplesteen plotgo godr...   \n",
       "1     damnbastard bastardthe bastardhappy bastards d...   \n",
       "2     isit ismovies moviesthese theselike movieswatc...   \n",
       "3     questcamelot camelotfor questbros brosis brosw...   \n",
       "4     synopsissaves savespsychotherapy psychotherapy...   \n",
       "...                                                 ...   \n",
       "1995  moviewow moviewhat moviea originalit originalm...   \n",
       "1996  actorgere gererichard actorcan actorbe actora ...   \n",
       "1997  storyglory glorywashington washingtonstarring ...   \n",
       "1998  masterpiecefilm filmspielberg spielbergsteven ...   \n",
       "1999  nameburbank burbanktruman burbanktrue burbankm...   \n",
       "\n",
       "                                          lemm_sin_text  \n",
       "0     plotcouple coupletwo coupleteen plotgo godrink...  \n",
       "1     damnbastard bastardthe bastardhappy bastards d...  \n",
       "2     isit ismovie moviethese theselike moviewatch w...  \n",
       "3     questcamelot camelotfor questbros brosis brosw...  \n",
       "4     synopsissave savepsychotherapy psychotherapya ...  \n",
       "...                                                 ...  \n",
       "1995  moviewow moviewhat moviea originalit originalm...  \n",
       "1996  actorgere gererichard actorcan actorbe actora ...  \n",
       "1997  storyglory glorywashington washingtonstarring ...  \n",
       "1998  masterpiecefilm filmspielberg spielbergsteven ...  \n",
       "1999  nameburbank burbanktruman burbanktrue burbankm...  \n",
       "\n",
       "[2000 rows x 4 columns]"
      ]
     },
     "execution_count": 41,
     "metadata": {},
     "output_type": "execute_result"
    }
   ],
   "source": [
    "df"
   ]
  },
  {
   "cell_type": "code",
   "execution_count": 42,
   "metadata": {},
   "outputs": [],
   "source": [
    "df.to_csv('lemm_sin_movie.csv', index=False)"
   ]
  }
 ],
 "metadata": {
  "kernelspec": {
   "display_name": "Python 3",
   "language": "python",
   "name": "python3"
  },
  "language_info": {
   "codemirror_mode": {
    "name": "ipython",
    "version": 3
   },
   "file_extension": ".py",
   "mimetype": "text/x-python",
   "name": "python",
   "nbconvert_exporter": "python",
   "pygments_lexer": "ipython3",
   "version": "3.7.4"
  }
 },
 "nbformat": 4,
 "nbformat_minor": 2
}
