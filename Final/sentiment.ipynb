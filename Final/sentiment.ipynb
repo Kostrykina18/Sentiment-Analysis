{
 "cells": [
  {
   "cell_type": "code",
   "execution_count": 1,
   "metadata": {
    "colab": {
     "base_uri": "https://localhost:8080/",
     "height": 70
    },
    "colab_type": "code",
    "id": "7PBrd9hIBAbS",
    "outputId": "54f70dac-3095-4862-8ea4-03bdf5082ad2"
   },
   "outputs": [
    {
     "name": "stderr",
     "output_type": "stream",
     "text": [
      "/usr/local/lib/python3.6/dist-packages/statsmodels/tools/_testing.py:19: FutureWarning: pandas.util.testing is deprecated. Use the functions in the public API at pandas.testing instead.\n",
      "  import pandas.util.testing as tm\n"
     ]
    }
   ],
   "source": [
    "import re\n",
    "import numpy as np\n",
    "import pandas as pd\n",
    "import seaborn as sns\n",
    "\n",
    "from sklearn.feature_extraction.text import TfidfVectorizer\n",
    "from sklearn.model_selection import cross_val_score\n",
    "from sklearn.model_selection import RandomizedSearchCV\n",
    "from sklearn.linear_model import LogisticRegression\n",
    "from sklearn.naive_bayes import MultinomialNB\n",
    "from sklearn.ensemble import RandomForestClassifier\n",
    "from sklearn.decomposition import TruncatedSVD"
   ]
  },
  {
   "cell_type": "code",
   "execution_count": 0,
   "metadata": {
    "colab": {},
    "colab_type": "code",
    "id": "asmFzjrBPf4c"
   },
   "outputs": [],
   "source": [
    "def scores(classifier, X, y):\n",
    "    precision = cross_val_score(classifier, X, y, cv=10, scoring='precision').mean()\n",
    "    recall = cross_val_score(classifier, X, y, cv=10, scoring='recall').mean()\n",
    "    f1 = cross_val_score(classifier, X, y, cv=10, scoring='f1').mean()\n",
    "    columns = ['precision', 'recall', 'f1']\n",
    "    results = pd.DataFrame([precision, recall, f1], index=columns).T\n",
    "    return results"
   ]
  },
  {
   "cell_type": "code",
   "execution_count": 0,
   "metadata": {
    "colab": {},
    "colab_type": "code",
    "id": "C9y5TyqsPf4f"
   },
   "outputs": [],
   "source": [
    "df = pd.read_csv('sin_movie.csv')"
   ]
  },
  {
   "cell_type": "markdown",
   "metadata": {
    "colab_type": "text",
    "id": "0CbDBeOwPf4m"
   },
   "source": [
    "1000 положительных и 1000 отрицательных отзывов\n",
    "* столбец text - просто текст отзыва\n",
    "* столбец sin_text - синтаксические биграммы, построенные по дереву зависимостей"
   ]
  },
  {
   "cell_type": "code",
   "execution_count": 4,
   "metadata": {
    "colab": {
     "base_uri": "https://localhost:8080/",
     "height": 402
    },
    "colab_type": "code",
    "id": "FyBh_W6mPf4n",
    "outputId": "1c644093-5c38-4d80-9326-6e7d0f864877"
   },
   "outputs": [
    {
     "data": {
      "text/html": [
       "<div>\n",
       "<style scoped>\n",
       "    .dataframe tbody tr th:only-of-type {\n",
       "        vertical-align: middle;\n",
       "    }\n",
       "\n",
       "    .dataframe tbody tr th {\n",
       "        vertical-align: top;\n",
       "    }\n",
       "\n",
       "    .dataframe thead th {\n",
       "        text-align: right;\n",
       "    }\n",
       "</style>\n",
       "<table border=\"1\" class=\"dataframe\">\n",
       "  <thead>\n",
       "    <tr style=\"text-align: right;\">\n",
       "      <th></th>\n",
       "      <th>text</th>\n",
       "      <th>labels</th>\n",
       "      <th>sin_text</th>\n",
       "    </tr>\n",
       "  </thead>\n",
       "  <tbody>\n",
       "    <tr>\n",
       "      <th>0</th>\n",
       "      <td>now that boogie nights has made disco respecta...</td>\n",
       "      <td>1.0</td>\n",
       "      <td>surprisedmade madenow madethat madenights nigh...</td>\n",
       "    </tr>\n",
       "    <tr>\n",
       "      <th>1</th>\n",
       "      <td>based on the relatively unknown in comparison ...</td>\n",
       "      <td>1.0</td>\n",
       "      <td>tellscomparison comparisonbased comparisonon c...</td>\n",
       "    </tr>\n",
       "    <tr>\n",
       "      <th>2</th>\n",
       "      <td>i was going to see ram shrasta on the big scre...</td>\n",
       "      <td>0.0</td>\n",
       "      <td>goingi goingwas goingsee seeto seeshrasta shra...</td>\n",
       "    </tr>\n",
       "    <tr>\n",
       "      <th>3</th>\n",
       "      <td>i wonder if budget is at all a criterion for w...</td>\n",
       "      <td>0.0</td>\n",
       "      <td>wonderi wondercriterion criterionif criterionb...</td>\n",
       "    </tr>\n",
       "    <tr>\n",
       "      <th>4</th>\n",
       "      <td>modern audiences are more likely to be familia...</td>\n",
       "      <td>1.0</td>\n",
       "      <td>likelyaudiences audiencesmodern likelyare like...</td>\n",
       "    </tr>\n",
       "    <tr>\n",
       "      <th>...</th>\n",
       "      <td>...</td>\n",
       "      <td>...</td>\n",
       "      <td>...</td>\n",
       "    </tr>\n",
       "    <tr>\n",
       "      <th>1995</th>\n",
       "      <td>call me crazy but i don t see saving private r...</td>\n",
       "      <td>1.0</td>\n",
       "      <td>callme callcrazy callsee seebut seei it tdon s...</td>\n",
       "    </tr>\n",
       "    <tr>\n",
       "      <th>1996</th>\n",
       "      <td>s alien marked not only the death by suicide o...</td>\n",
       "      <td>1.0</td>\n",
       "      <td>includedmarked markeds markedalien markedsavag...</td>\n",
       "    </tr>\n",
       "    <tr>\n",
       "      <th>1997</th>\n",
       "      <td>plot two sister witches have to live with a cu...</td>\n",
       "      <td>0.0</td>\n",
       "      <td>plotwitches witchestwo witchessister plothave ...</td>\n",
       "    </tr>\n",
       "    <tr>\n",
       "      <th>1998</th>\n",
       "      <td>deserves recognition for achieving the near im...</td>\n",
       "      <td>0.0</td>\n",
       "      <td>deservesrecognition deservesachieving achievin...</td>\n",
       "    </tr>\n",
       "    <tr>\n",
       "      <th>1999</th>\n",
       "      <td>capsule earthy experimental difficult shocking...</td>\n",
       "      <td>1.0</td>\n",
       "      <td>capsulefrank frankearthy frankdifficult diffic...</td>\n",
       "    </tr>\n",
       "  </tbody>\n",
       "</table>\n",
       "<p>2000 rows × 3 columns</p>\n",
       "</div>"
      ],
      "text/plain": [
       "                                                   text  ...                                           sin_text\n",
       "0     now that boogie nights has made disco respecta...  ...  surprisedmade madenow madethat madenights nigh...\n",
       "1     based on the relatively unknown in comparison ...  ...  tellscomparison comparisonbased comparisonon c...\n",
       "2     i was going to see ram shrasta on the big scre...  ...  goingi goingwas goingsee seeto seeshrasta shra...\n",
       "3     i wonder if budget is at all a criterion for w...  ...  wonderi wondercriterion criterionif criterionb...\n",
       "4     modern audiences are more likely to be familia...  ...  likelyaudiences audiencesmodern likelyare like...\n",
       "...                                                 ...  ...                                                ...\n",
       "1995  call me crazy but i don t see saving private r...  ...  callme callcrazy callsee seebut seei it tdon s...\n",
       "1996  s alien marked not only the death by suicide o...  ...  includedmarked markeds markedalien markedsavag...\n",
       "1997  plot two sister witches have to live with a cu...  ...  plotwitches witchestwo witchessister plothave ...\n",
       "1998  deserves recognition for achieving the near im...  ...  deservesrecognition deservesachieving achievin...\n",
       "1999  capsule earthy experimental difficult shocking...  ...  capsulefrank frankearthy frankdifficult diffic...\n",
       "\n",
       "[2000 rows x 3 columns]"
      ]
     },
     "execution_count": 4,
     "metadata": {
      "tags": []
     },
     "output_type": "execute_result"
    }
   ],
   "source": [
    "df"
   ]
  },
  {
   "cell_type": "markdown",
   "metadata": {},
   "source": [
    "Столбец all - комбинация униграмм и синтаксических биграмм"
   ]
  },
  {
   "cell_type": "code",
   "execution_count": 0,
   "metadata": {
    "colab": {},
    "colab_type": "code",
    "id": "SmjV6kPq2plq"
   },
   "outputs": [],
   "source": [
    "df['all'] = df['text'] + df['sin_text']"
   ]
  },
  {
   "cell_type": "markdown",
   "metadata": {},
   "source": [
    "* X - униграммы\n",
    "* XS - синнтаксические биграммы\n",
    "* X_all - все вместе"
   ]
  },
  {
   "cell_type": "code",
   "execution_count": 0,
   "metadata": {
    "colab": {},
    "colab_type": "code",
    "id": "NRXecWVNPf5J"
   },
   "outputs": [],
   "source": [
    "vectorizer = TfidfVectorizer()\n",
    "\n",
    "X = vectorizer.fit_transform(df['text'])\n",
    "XS = vectorizer.fit_transform(df['sin_text'])\n",
    "X_all = vectorizer.fit_transform(df['all'])\n",
    "\n",
    "y = df['labels']"
   ]
  },
  {
   "cell_type": "code",
   "execution_count": 8,
   "metadata": {
    "colab": {
     "base_uri": "https://localhost:8080/",
     "height": 283
    },
    "colab_type": "code",
    "id": "v0PpYhSSODk8",
    "outputId": "f58c7a02-47c6-4629-fd2e-564d67aafc6c"
   },
   "outputs": [
    {
     "data": {
      "text/plain": [
       "<matplotlib.axes._subplots.AxesSubplot at 0x7fb6e0e98128>"
      ]
     },
     "execution_count": 8,
     "metadata": {
      "tags": []
     },
     "output_type": "execute_result"
    },
    {
     "data": {
      "image/png": "[encoded data removed]",
      "text/plain": [
       "<Figure size 432x288 with 1 Axes>"
      ]
     },
     "metadata": {
      "needs_background": "light",
      "tags": []
     },
     "output_type": "display_data"
    }
   ],
   "source": [
    "sns.barplot(['X', 'XS', 'X_all'], \n",
    "            [X.shape[1], XS.shape[1], X_all.shape[1]])"
   ]
  },
  {
   "cell_type": "code",
   "execution_count": 0,
   "metadata": {
    "colab": {
     "base_uri": "https://localhost:8080/",
     "height": 136
    },
    "colab_type": "code",
    "id": "A4ET5QuTRF2-",
    "outputId": "cb4df296-c4d8-4752-ee59-15cce286a845",
    "scrolled": true
   },
   "outputs": [
    {
     "data": {
      "text/plain": [
       "array([[0., 0., 0., ..., 0., 0., 0.],\n",
       "       [0., 0., 0., ..., 0., 0., 0.],\n",
       "       [0., 0., 0., ..., 0., 0., 0.],\n",
       "       ...,\n",
       "       [0., 0., 0., ..., 0., 0., 0.],\n",
       "       [0., 0., 0., ..., 0., 0., 0.],\n",
       "       [0., 0., 0., ..., 0., 0., 0.]])"
      ]
     },
     "execution_count": 21,
     "metadata": {
      "tags": []
     },
     "output_type": "execute_result"
    }
   ],
   "source": [
    "X.toarray()"
   ]
  },
  {
   "cell_type": "markdown",
   "metadata": {
    "colab_type": "text",
    "id": "UCYyMYu9ZaMq"
   },
   "source": [
    "Почти везде нули, но где-то внутри есть другие числа"
   ]
  },
  {
   "cell_type": "markdown",
   "metadata": {},
   "source": [
    "SVD"
   ]
  },
  {
   "cell_type": "markdown",
   "metadata": {},
   "source": [
    "* sX - униграммы\n",
    "* sXS - синнтаксические биграммы\n",
    "* sX_all - все вместе"
   ]
  },
  {
   "cell_type": "code",
   "execution_count": 0,
   "metadata": {
    "colab": {},
    "colab_type": "code",
    "id": "_QcWYfr6Xhmt"
   },
   "outputs": [],
   "source": [
    "svd = TruncatedSVD(n_components=200, n_iter=20, random_state=42)\n",
    "sX = svd.fit_transform(X)\n",
    "sXS = svd.fit_transform(XS)\n",
    "sX_all = svd.fit_transform(X_all)"
   ]
  },
  {
   "cell_type": "markdown",
   "metadata": {},
   "source": [
    "### MultinomialNB"
   ]
  },
  {
   "cell_type": "code",
   "execution_count": 0,
   "metadata": {
    "colab": {},
    "colab_type": "code",
    "id": "dDq_eZ5aR5c3"
   },
   "outputs": [],
   "source": [
    "mnb = M`ultinomialNB()"
   ]
  },
  {
   "cell_type": "markdown",
   "metadata": {},
   "source": [
    "До SVD"
   ]
  },
  {
   "cell_type": "code",
   "execution_count": 11,
   "metadata": {
    "colab": {
     "base_uri": "https://localhost:8080/",
     "height": 118
    },
    "colab_type": "code",
    "id": "goCdx_yTR5M2",
    "outputId": "6b1b568f-a5b6-493c-9da6-951ac9ece11f"
   },
   "outputs": [
    {
     "name": "stdout",
     "output_type": "stream",
     "text": [
      "   precision  recall        f1\n",
      "0   0.854463   0.746  0.795236\n",
      "   precision  recall        f1\n",
      "0   0.848442    0.83  0.838361\n",
      "   precision  recall        f1\n",
      "0   0.820806    0.87  0.843945\n"
     ]
    }
   ],
   "source": [
    "for i in [X, XS, X_all]:\n",
    "  print(scores(mnb, i, y))"
   ]
  },
  {
   "cell_type": "markdown",
   "metadata": {},
   "source": [
    "После SVD"
   ]
  },
  {
   "cell_type": "code",
   "execution_count": 14,
   "metadata": {
    "colab": {
     "base_uri": "https://localhost:8080/",
     "height": 118
    },
    "colab_type": "code",
    "id": "DX5Y2V5xXqRJ",
    "outputId": "0d0f175f-fa74-42fd-ac72-90239d168453"
   },
   "outputs": [
    {
     "name": "stdout",
     "output_type": "stream",
     "text": [
      "   precision  recall        f1\n",
      "0   0.812505   0.805  0.807881\n",
      "   precision  recall        f1\n",
      "0   0.812708   0.811  0.810907\n",
      "   precision  recall        f1\n",
      "0   0.825739   0.807  0.815386\n"
     ]
    }
   ],
   "source": [
    "for i in [sX, sXS, sX_all]:\n",
    "  i = i + abs(i.min(axis=0))\n",
    "  print(scores(mnb, i, y))"
   ]
  },
  {
   "cell_type": "markdown",
   "metadata": {},
   "source": [
    "### RandomForest"
   ]
  },
  {
   "cell_type": "code",
   "execution_count": 0,
   "metadata": {
    "colab": {},
    "colab_type": "code",
    "id": "qlpEmSJSxKX9"
   },
   "outputs": [],
   "source": [
    "rfc = RandomForestClassifier(random_state=42)"
   ]
  },
  {
   "cell_type": "code",
   "execution_count": 0,
   "metadata": {
    "colab": {},
    "colab_type": "code",
    "id": "5EcNDsBVS5pO"
   },
   "outputs": [],
   "source": [
    "random_grid = {'n_estimators': [i for i in range(100, 601, 100)],\n",
    "               'max_features': 2**np.arange(1, 15),\n",
    "               'max_depth': [i for i in range(10, 111, 10)],\n",
    "               'min_samples_split': [2, 5, 10],\n",
    "               'min_samples_leaf': [1, 2, 4]}"
   ]
  },
  {
   "cell_type": "markdown",
   "metadata": {},
   "source": [
    "До SVD"
   ]
  },
  {
   "cell_type": "code",
   "execution_count": 13,
   "metadata": {
    "colab": {
     "base_uri": "https://localhost:8080/",
     "height": 420
    },
    "colab_type": "code",
    "id": "82gI56t98EdQ",
    "outputId": "03d98e37-7d44-40e1-ad70-ae25f8942826"
   },
   "outputs": [
    {
     "name": "stdout",
     "output_type": "stream",
     "text": [
      "Fitting 3 folds for each of 100 candidates, totalling 300 fits\n"
     ]
    },
    {
     "name": "stderr",
     "output_type": "stream",
     "text": [
      "[Parallel(n_jobs=-1)]: Using backend LokyBackend with 4 concurrent workers.\n",
      "[Parallel(n_jobs=-1)]: Done  33 tasks      | elapsed:  8.5min\n",
      "[Parallel(n_jobs=-1)]: Done 154 tasks      | elapsed: 21.7min\n",
      "[Parallel(n_jobs=-1)]: Done 300 out of 300 | elapsed: 45.9min finished\n"
     ]
    },
    {
     "name": "stdout",
     "output_type": "stream",
     "text": [
      "   precision  recall        f1\n",
      "0   0.841304   0.811  0.825293\n",
      "{'n_estimators': 500, 'min_samples_split': 2, 'min_samples_leaf': 2, 'max_features': 512, 'max_depth': 20}\n",
      "Fitting 3 folds for each of 100 candidates, totalling 300 fits\n"
     ]
    },
    {
     "name": "stderr",
     "output_type": "stream",
     "text": [
      "[Parallel(n_jobs=-1)]: Using backend LokyBackend with 4 concurrent workers.\n",
      "[Parallel(n_jobs=-1)]: Done  33 tasks      | elapsed: 16.0min\n",
      "[Parallel(n_jobs=-1)]: Done 154 tasks      | elapsed: 41.5min\n",
      "[Parallel(n_jobs=-1)]: Done 300 out of 300 | elapsed: 82.7min finished\n"
     ]
    },
    {
     "name": "stdout",
     "output_type": "stream",
     "text": [
      "   precision  recall        f1\n",
      "0   0.783932   0.765  0.773821\n",
      "{'n_estimators': 400, 'min_samples_split': 5, 'min_samples_leaf': 2, 'max_features': 128, 'max_depth': 40}\n",
      "Fitting 3 folds for each of 100 candidates, totalling 300 fits\n"
     ]
    },
    {
     "name": "stderr",
     "output_type": "stream",
     "text": [
      "[Parallel(n_jobs=-1)]: Using backend LokyBackend with 4 concurrent workers.\n",
      "[Parallel(n_jobs=-1)]: Done  33 tasks      | elapsed: 13.8min\n",
      "[Parallel(n_jobs=-1)]: Done 154 tasks      | elapsed: 38.0min\n",
      "[Parallel(n_jobs=-1)]: Done 300 out of 300 | elapsed: 80.9min finished\n"
     ]
    },
    {
     "name": "stdout",
     "output_type": "stream",
     "text": [
      "   precision  recall       f1\n",
      "0   0.854001   0.812  0.83171\n",
      "{'n_estimators': 500, 'min_samples_split': 2, 'min_samples_leaf': 2, 'max_features': 16384, 'max_depth': 40}\n"
     ]
    }
   ],
   "source": [
    "for ite in [X, XS, X_all]:\n",
    "  rf_random = RandomizedSearchCV(rfc, random_grid, n_iter = 100, cv = 3, verbose=2, random_state=42, n_jobs=-1)\n",
    "  rf_random.fit(ite, y)\n",
    "  print(scores(rf_random.best_estimator_, ite, y))\n",
    "  print(rf_random.best_params_)"
   ]
  },
  {
   "cell_type": "markdown",
   "metadata": {},
   "source": [
    "После SVD"
   ]
  },
  {
   "cell_type": "code",
   "execution_count": 12,
   "metadata": {
    "colab": {
     "base_uri": "https://localhost:8080/",
     "height": 420
    },
    "colab_type": "code",
    "id": "BoBB3ZeYy454",
    "outputId": "60ecd91b-f027-4a18-f05d-e332e61ca6b2"
   },
   "outputs": [
    {
     "name": "stdout",
     "output_type": "stream",
     "text": [
      "Fitting 3 folds for each of 100 candidates, totalling 300 fits\n"
     ]
    },
    {
     "name": "stderr",
     "output_type": "stream",
     "text": [
      "[Parallel(n_jobs=-1)]: Using backend LokyBackend with 4 concurrent workers.\n",
      "[Parallel(n_jobs=-1)]: Done  33 tasks      | elapsed:   23.6s\n",
      "[Parallel(n_jobs=-1)]: Done 154 tasks      | elapsed:  3.9min\n",
      "[Parallel(n_jobs=-1)]: Done 300 out of 300 | elapsed: 10.0min finished\n"
     ]
    },
    {
     "name": "stdout",
     "output_type": "stream",
     "text": [
      "   precision  recall        f1\n",
      "0   0.798914   0.808  0.803101\n",
      "{'n_estimators': 500, 'min_samples_split': 5, 'min_samples_leaf': 4, 'max_features': 8, 'max_depth': 60}\n",
      "Fitting 3 folds for each of 100 candidates, totalling 300 fits\n"
     ]
    },
    {
     "name": "stderr",
     "output_type": "stream",
     "text": [
      "[Parallel(n_jobs=-1)]: Using backend LokyBackend with 4 concurrent workers.\n",
      "[Parallel(n_jobs=-1)]: Done  33 tasks      | elapsed:   21.8s\n",
      "[Parallel(n_jobs=-1)]: Done 154 tasks      | elapsed:  3.9min\n",
      "[Parallel(n_jobs=-1)]: Done 300 out of 300 | elapsed: 10.1min finished\n"
     ]
    },
    {
     "name": "stdout",
     "output_type": "stream",
     "text": [
      "   precision  recall        f1\n",
      "0   0.777643   0.748  0.761679\n",
      "{'n_estimators': 600, 'min_samples_split': 5, 'min_samples_leaf': 4, 'max_features': 4, 'max_depth': 60}\n",
      "Fitting 3 folds for each of 100 candidates, totalling 300 fits\n"
     ]
    },
    {
     "name": "stderr",
     "output_type": "stream",
     "text": [
      "[Parallel(n_jobs=-1)]: Using backend LokyBackend with 4 concurrent workers.\n",
      "[Parallel(n_jobs=-1)]: Done  33 tasks      | elapsed:   21.8s\n",
      "[Parallel(n_jobs=-1)]: Done 154 tasks      | elapsed:  3.9min\n",
      "[Parallel(n_jobs=-1)]: Done 300 out of 300 | elapsed: 10.0min finished\n"
     ]
    },
    {
     "name": "stdout",
     "output_type": "stream",
     "text": [
      "   precision  recall       f1\n",
      "0   0.808571   0.807  0.80743\n",
      "{'n_estimators': 600, 'min_samples_split': 10, 'min_samples_leaf': 1, 'max_features': 4, 'max_depth': 30}\n"
     ]
    }
   ],
   "source": [
    "for ite in [sX, sXS, sX_all]:\n",
    "  rf_random = RandomizedSearchCV(rfc, random_grid, n_iter = 100, cv = 3, verbose=2, random_state=42, n_jobs=-1)\n",
    "  rf_random.fit(ite, y)\n",
    "  print(scores(rf_random.best_estimator_, ite, y))\n",
    "  print(rf_random.best_params_)"
   ]
  },
  {
   "cell_type": "markdown",
   "metadata": {},
   "source": [
    "### LogisticRegression"
   ]
  },
  {
   "cell_type": "code",
   "execution_count": 0,
   "metadata": {
    "colab": {},
    "colab_type": "code",
    "id": "U4olwL5YGANa"
   },
   "outputs": [],
   "source": [
    "log = LogisticRegression(random_state=42)"
   ]
  },
  {
   "cell_type": "markdown",
   "metadata": {},
   "source": [
    "До SVD"
   ]
  },
  {
   "cell_type": "code",
   "execution_count": 17,
   "metadata": {
    "colab": {
     "base_uri": "https://localhost:8080/",
     "height": 118
    },
    "colab_type": "code",
    "id": "b4m14lRoXp6W",
    "outputId": "a7041b77-de7b-4525-af96-cabc0281b5ba"
   },
   "outputs": [
    {
     "name": "stdout",
     "output_type": "stream",
     "text": [
      "   precision  recall        f1\n",
      "0   0.833684   0.825  0.828821\n",
      "   precision  recall        f1\n",
      "0   0.821313   0.822  0.820912\n",
      "   precision  recall        f1\n",
      "0   0.822988   0.775  0.797998\n"
     ]
    }
   ],
   "source": [
    "for i in [X, XS, X_all]:\n",
    "  print(scores(log, i, y))"
   ]
  },
  {
   "cell_type": "markdown",
   "metadata": {},
   "source": [
    "После SVD"
   ]
  },
  {
   "cell_type": "code",
   "execution_count": 18,
   "metadata": {
    "colab": {
     "base_uri": "https://localhost:8080/",
     "height": 118
    },
    "colab_type": "code",
    "id": "ugR_SfYNCbNw",
    "outputId": "3942b6c3-6167-4579-9fed-94395f8ae4d6"
   },
   "outputs": [
    {
     "name": "stdout",
     "output_type": "stream",
     "text": [
      "   precision  recall       f1\n",
      "0   0.833565   0.827  0.82977\n",
      "   precision  recall       f1\n",
      "0   0.836201   0.844  0.83921\n",
      "   precision  recall        f1\n",
      "0   0.854734   0.834  0.843878\n"
     ]
    }
   ],
   "source": [
    "for i in [sX, sXS, sX_all]:\n",
    "  print(scores(log, i, y))"
   ]
  }
 ],
 "metadata": {
  "colab": {
   "collapsed_sections": [],
   "machine_shape": "hm",
   "name": "3udpipe_trees.ipynb",
   "provenance": []
  },
  "kernelspec": {
   "display_name": "Python 3",
   "language": "python",
   "name": "python3"
  },
  "language_info": {
   "codemirror_mode": {
    "name": "ipython",
    "version": 3
   },
   "file_extension": ".py",
   "mimetype": "text/x-python",
   "name": "python",
   "nbconvert_exporter": "python",
   "pygments_lexer": "ipython3",
   "version": "3.7.4"
  }
 },
 "nbformat": 4,
 "nbformat_minor": 1
}
